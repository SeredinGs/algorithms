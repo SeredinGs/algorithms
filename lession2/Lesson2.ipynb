{
 "cells": [
  {
   "cell_type": "markdown",
   "metadata": {},
   "source": [
    "# Урок 2.  \n",
    "# Масштабирование признаков.  \n",
    "# L1- и L2-регуляризация.  \n",
    "# Стохастический градиентный спуск"
   ]
  },
  {
   "cell_type": "markdown",
   "metadata": {},
   "source": [
    "На этом уроке мы продолжим исследовать линейные модели,  \n",
    "узначем, зачем для линейных моделей нужно масштабировать признаки,  \n",
    "реализуем свою линейную регрессию с регуляризацией  \n",
    "и усовршенствуем наш алгоритм градиентного спуска, сделав его стохастическим.  \n",
    "Поехали!"
   ]
  },
  {
   "cell_type": "code",
   "execution_count": 27,
   "metadata": {
    "colab": {},
    "colab_type": "code",
    "id": "_u5bV-OlT34p"
   },
   "outputs": [],
   "source": [
    "import numpy as np\n",
    "import matplotlib.pyplot as plt"
   ]
  },
  {
   "cell_type": "code",
   "execution_count": 28,
   "metadata": {
    "colab": {},
    "colab_type": "code",
    "id": "_n6il-AZaLuA"
   },
   "outputs": [],
   "source": [
    "X = np.array([[1, 1, 1, 1, 1, 1, 1, 1, 1, 1],\n",
    "              [1, 1, 2, 1, 3, 0, 5, 10, 1, 2],\n",
    "              [500, 700, 750, 600, 1450,\n",
    "               800, 1500, 2000, 450, 1000],\n",
    "              [1, 1, 2, 1, 2, \n",
    "               1, 3, 3, 1, 2]]).T"
   ]
  },
  {
   "cell_type": "code",
   "execution_count": 29,
   "metadata": {
    "colab": {},
    "colab_type": "code",
    "id": "x8yoci01ni-t"
   },
   "outputs": [
    {
     "data": {
      "text/plain": [
       "(10,)"
      ]
     },
     "execution_count": 29,
     "metadata": {},
     "output_type": "execute_result"
    }
   ],
   "source": [
    "y = np.array([45, 55, 50, 59, 65, 35, 75, 80, 50, 60])\n",
    "y.shape"
   ]
  },
  {
   "cell_type": "markdown",
   "metadata": {},
   "source": [
    "# Виды масштабирования признаков"
   ]
  },
  {
   "cell_type": "markdown",
   "metadata": {},
   "source": [
    "![img/normalization.png](img/normalization.png)"
   ]
  },
  {
   "cell_type": "markdown",
   "metadata": {},
   "source": [
    "### MinMaxScaler  \n",
    "\n",
    "$$\\large X_{norm} = \\frac{X – X_{min}}{X_{max}-X_{min}}$$"
   ]
  },
  {
   "cell_type": "code",
   "execution_count": 30,
   "metadata": {
    "colab": {
     "base_uri": "https://localhost:8080/",
     "height": 34
    },
    "colab_type": "code",
    "id": "Ei5qeZO_aT6m",
    "outputId": "087819d3-202a-46c9-f87d-49e17953099c"
   },
   "outputs": [
    {
     "data": {
      "text/plain": [
       "(0, 10)"
      ]
     },
     "execution_count": 30,
     "metadata": {},
     "output_type": "execute_result"
    }
   ],
   "source": [
    "X[:,1].min(), X[:,1].max()"
   ]
  },
  {
   "cell_type": "code",
   "execution_count": 31,
   "metadata": {
    "colab": {
     "base_uri": "https://localhost:8080/",
     "height": 34
    },
    "colab_type": "code",
    "id": "L7wsW1Q7b4Ts",
    "outputId": "911044d6-32c1-475a-80cd-cbaf26d5ba32"
   },
   "outputs": [
    {
     "data": {
      "text/plain": [
       "(450, 2000)"
      ]
     },
     "execution_count": 31,
     "metadata": {},
     "output_type": "execute_result"
    }
   ],
   "source": [
    "X[:,2].min(), X[:,2].max()"
   ]
  },
  {
   "cell_type": "code",
   "execution_count": 32,
   "metadata": {
    "colab": {
     "base_uri": "https://localhost:8080/",
     "height": 121
    },
    "colab_type": "code",
    "id": "E55S9Bzob9Xa",
    "outputId": "4abf56a2-d484-4c24-8520-8ed1b58ccca8"
   },
   "outputs": [
    {
     "data": {
      "text/plain": [
       "array([[1.00e+00, 1.00e+00, 5.00e+02, 1.00e+00],\n",
       "       [1.00e+00, 1.00e+00, 7.00e+02, 1.00e+00],\n",
       "       [1.00e+00, 2.00e+00, 7.50e+02, 2.00e+00],\n",
       "       [1.00e+00, 1.00e+00, 6.00e+02, 1.00e+00],\n",
       "       [1.00e+00, 3.00e+00, 1.45e+03, 2.00e+00],\n",
       "       [1.00e+00, 0.00e+00, 8.00e+02, 1.00e+00],\n",
       "       [1.00e+00, 5.00e+00, 1.50e+03, 3.00e+00],\n",
       "       [1.00e+00, 1.00e+01, 2.00e+03, 3.00e+00],\n",
       "       [1.00e+00, 1.00e+00, 4.50e+02, 1.00e+00],\n",
       "       [1.00e+00, 2.00e+00, 1.00e+03, 2.00e+00]])"
      ]
     },
     "execution_count": 32,
     "metadata": {},
     "output_type": "execute_result"
    }
   ],
   "source": [
    "X_norm = X.copy()\n",
    "X_norm = X_norm.astype(np.float64)\n",
    "X_norm"
   ]
  },
  {
   "cell_type": "code",
   "execution_count": 33,
   "metadata": {
    "colab": {
     "base_uri": "https://localhost:8080/",
     "height": 121
    },
    "colab_type": "code",
    "id": "7x-6IuPOcIo0",
    "outputId": "1668fec7-37ae-4671-ad9f-f093c30a6c72"
   },
   "outputs": [
    {
     "data": {
      "text/plain": [
       "array([[1.00e+00, 1.00e-01, 5.00e+02, 1.00e+00],\n",
       "       [1.00e+00, 1.00e-01, 7.00e+02, 1.00e+00],\n",
       "       [1.00e+00, 2.00e-01, 7.50e+02, 2.00e+00],\n",
       "       [1.00e+00, 1.00e-01, 6.00e+02, 1.00e+00],\n",
       "       [1.00e+00, 3.00e-01, 1.45e+03, 2.00e+00],\n",
       "       [1.00e+00, 0.00e+00, 8.00e+02, 1.00e+00],\n",
       "       [1.00e+00, 5.00e-01, 1.50e+03, 3.00e+00],\n",
       "       [1.00e+00, 1.00e+00, 2.00e+03, 3.00e+00],\n",
       "       [1.00e+00, 1.00e-01, 4.50e+02, 1.00e+00],\n",
       "       [1.00e+00, 2.00e-01, 1.00e+03, 2.00e+00]])"
      ]
     },
     "execution_count": 33,
     "metadata": {},
     "output_type": "execute_result"
    }
   ],
   "source": [
    "X_norm[:,1] = (X[:,1] - X[:,1].min()) / (X[:,1].max() - X[:,1].min())\n",
    "X_norm"
   ]
  },
  {
   "cell_type": "code",
   "execution_count": 34,
   "metadata": {
    "colab": {
     "base_uri": "https://localhost:8080/",
     "height": 121
    },
    "colab_type": "code",
    "id": "izkMRdXFcjyK",
    "outputId": "982b8c8d-629d-4c4a-a3d5-67854cee4a4a"
   },
   "outputs": [
    {
     "data": {
      "text/plain": [
       "array([[1.        , 0.1       , 0.03225806, 1.        ],\n",
       "       [1.        , 0.1       , 0.16129032, 1.        ],\n",
       "       [1.        , 0.2       , 0.19354839, 2.        ],\n",
       "       [1.        , 0.1       , 0.09677419, 1.        ],\n",
       "       [1.        , 0.3       , 0.64516129, 2.        ],\n",
       "       [1.        , 0.        , 0.22580645, 1.        ],\n",
       "       [1.        , 0.5       , 0.67741935, 3.        ],\n",
       "       [1.        , 1.        , 1.        , 3.        ],\n",
       "       [1.        , 0.1       , 0.        , 1.        ],\n",
       "       [1.        , 0.2       , 0.35483871, 2.        ]])"
      ]
     },
     "execution_count": 34,
     "metadata": {},
     "output_type": "execute_result"
    }
   ],
   "source": [
    "X_norm[:,2] = (X[:,2] - X[:,2].min()) / (X[:,2].max() - X[:,2].min())\n",
    "X_norm"
   ]
  },
  {
   "cell_type": "markdown",
   "metadata": {
    "colab": {},
    "colab_type": "code",
    "id": "Zy63bpFfeqzu"
   },
   "source": [
    "### Стандартизация  \n",
    "\n",
    "$$\\large X_{norm} = \\frac{X – X_{mean}}{std}$$"
   ]
  },
  {
   "cell_type": "code",
   "execution_count": 35,
   "metadata": {
    "colab": {
     "base_uri": "https://localhost:8080/",
     "height": 317
    },
    "colab_type": "code",
    "id": "8i9pB-3-fMD4",
    "outputId": "3cbe76f6-d000-4fcd-fe86-ffe853403356"
   },
   "outputs": [
    {
     "data": {
      "image/png": "[encoded data removed]",
      "text/plain": [
       "<Figure size 432x288 with 1 Axes>"
      ]
     },
     "metadata": {
      "needs_background": "light"
     },
     "output_type": "display_data"
    }
   ],
   "source": [
    "plt.hist(X[:,1]);"
   ]
  },
  {
   "cell_type": "code",
   "execution_count": 36,
   "metadata": {
    "colab": {
     "base_uri": "https://localhost:8080/",
     "height": 335
    },
    "colab_type": "code",
    "id": "-bnAYQqVfRX-",
    "outputId": "d59b0013-49bc-40fa-cb29-e71403e6e9e0"
   },
   "outputs": [
    {
     "data": {
      "image/png": "[encoded data removed]",
      "text/plain": [
       "<Figure size 432x288 with 1 Axes>"
      ]
     },
     "metadata": {
      "needs_background": "light"
     },
     "output_type": "display_data"
    }
   ],
   "source": [
    "plt.hist(X[:,2]);"
   ]
  },
  {
   "cell_type": "code",
   "execution_count": 37,
   "metadata": {
    "colab": {
     "base_uri": "https://localhost:8080/",
     "height": 34
    },
    "colab_type": "code",
    "id": "eBMYUxGBfeGs",
    "outputId": "3d6031a8-3489-4661-a4a9-62d0c94c7116"
   },
   "outputs": [
    {
     "data": {
      "text/plain": [
       "2.6"
      ]
     },
     "execution_count": 37,
     "metadata": {},
     "output_type": "execute_result"
    }
   ],
   "source": [
    "X1_mean = X[:,1].mean()\n",
    "X1_mean"
   ]
  },
  {
   "cell_type": "code",
   "execution_count": 38,
   "metadata": {
    "colab": {
     "base_uri": "https://localhost:8080/",
     "height": 34
    },
    "colab_type": "code",
    "id": "KsBCCu-Cf45z",
    "outputId": "e5c534cf-2e3c-4574-f281-3ae73c956783"
   },
   "outputs": [
    {
     "data": {
      "text/plain": [
       "2.8000000000000003"
      ]
     },
     "execution_count": 38,
     "metadata": {},
     "output_type": "execute_result"
    }
   ],
   "source": [
    "X1_std = X[:,1].std()\n",
    "X1_std"
   ]
  },
  {
   "cell_type": "code",
   "execution_count": 39,
   "metadata": {
    "colab": {},
    "colab_type": "code",
    "id": "M57-Pzl_f_rF"
   },
   "outputs": [],
   "source": [
    "X_st = X.copy().astype(np.float64)"
   ]
  },
  {
   "cell_type": "code",
   "execution_count": 40,
   "metadata": {
    "colab": {
     "base_uri": "https://localhost:8080/",
     "height": 294
    },
    "colab_type": "code",
    "id": "btJMY0YbgKLb",
    "outputId": "40010205-def9-4582-9a5d-e513e85b7a4e"
   },
   "outputs": [
    {
     "data": {
      "text/plain": [
       "array([[ 1.00000000e+00, -5.71428571e-01,  5.00000000e+02,\n",
       "         1.00000000e+00],\n",
       "       [ 1.00000000e+00, -5.71428571e-01,  7.00000000e+02,\n",
       "         1.00000000e+00],\n",
       "       [ 1.00000000e+00, -2.14285714e-01,  7.50000000e+02,\n",
       "         2.00000000e+00],\n",
       "       [ 1.00000000e+00, -5.71428571e-01,  6.00000000e+02,\n",
       "         1.00000000e+00],\n",
       "       [ 1.00000000e+00,  1.42857143e-01,  1.45000000e+03,\n",
       "         2.00000000e+00],\n",
       "       [ 1.00000000e+00, -9.28571429e-01,  8.00000000e+02,\n",
       "         1.00000000e+00],\n",
       "       [ 1.00000000e+00,  8.57142857e-01,  1.50000000e+03,\n",
       "         3.00000000e+00],\n",
       "       [ 1.00000000e+00,  2.64285714e+00,  2.00000000e+03,\n",
       "         3.00000000e+00],\n",
       "       [ 1.00000000e+00, -5.71428571e-01,  4.50000000e+02,\n",
       "         1.00000000e+00],\n",
       "       [ 1.00000000e+00, -2.14285714e-01,  1.00000000e+03,\n",
       "         2.00000000e+00]])"
      ]
     },
     "execution_count": 40,
     "metadata": {},
     "output_type": "execute_result"
    }
   ],
   "source": [
    "X_st[:,1] = (X[:,1] - X1_mean) / X1_std\n",
    "X_st"
   ]
  },
  {
   "cell_type": "code",
   "execution_count": 41,
   "metadata": {
    "colab": {
     "base_uri": "https://localhost:8080/",
     "height": 352
    },
    "colab_type": "code",
    "id": "-Y1tzWGCgYjA",
    "outputId": "89dc21fe-180f-4e68-f30f-1cf276c4f154"
   },
   "outputs": [
    {
     "data": {
      "image/png": "[encoded data removed]",
      "text/plain": [
       "<Figure size 432x288 with 1 Axes>"
      ]
     },
     "metadata": {
      "needs_background": "light"
     },
     "output_type": "display_data"
    }
   ],
   "source": [
    "plt.hist(X_st[:,1]);"
   ]
  },
  {
   "cell_type": "code",
   "execution_count": 42,
   "metadata": {
    "colab": {},
    "colab_type": "code",
    "id": "ZlJUBOyzgkJV"
   },
   "outputs": [],
   "source": [
    "def custom_StandardScaler(x):\n",
    "    res = (x - x.mean()) / x.std()\n",
    "    return res"
   ]
  },
  {
   "cell_type": "code",
   "execution_count": 43,
   "metadata": {
    "colab": {},
    "colab_type": "code",
    "id": "6PlDlFY0hGZA"
   },
   "outputs": [],
   "source": [
    "X_st[:,2] = custom_StandardScaler(X[:,2])"
   ]
  },
  {
   "cell_type": "code",
   "execution_count": 44,
   "metadata": {
    "colab": {
     "base_uri": "https://localhost:8080/",
     "height": 155
    },
    "colab_type": "code",
    "id": "LOKhmhJjt9TR",
    "outputId": "2b131d78-9066-462b-dfa9-778758f3d363"
   },
   "outputs": [
    {
     "data": {
      "text/plain": [
       "array([[ 1.        , -0.57142857, -0.97958969, -0.89625816],\n",
       "       [ 1.        , -0.57142857, -0.56713087, -0.89625816],\n",
       "       [ 1.        , -0.21428571, -0.46401617,  0.38411064],\n",
       "       [ 1.        , -0.57142857, -0.77336028, -0.89625816],\n",
       "       [ 1.        ,  0.14285714,  0.97958969,  0.38411064],\n",
       "       [ 1.        , -0.92857143, -0.36090146, -0.89625816],\n",
       "       [ 1.        ,  0.85714286,  1.08270439,  1.66447944],\n",
       "       [ 1.        ,  2.64285714,  2.11385144,  1.66447944],\n",
       "       [ 1.        , -0.57142857, -1.08270439, -0.89625816],\n",
       "       [ 1.        , -0.21428571,  0.05155735,  0.38411064]])"
      ]
     },
     "execution_count": 44,
     "metadata": {},
     "output_type": "execute_result"
    }
   ],
   "source": [
    "X_st[:,3] = custom_StandardScaler(X[:,3])\n",
    "X_st"
   ]
  },
  {
   "cell_type": "code",
   "execution_count": 45,
   "metadata": {
    "colab": {
     "base_uri": "https://localhost:8080/",
     "height": 121
    },
    "colab_type": "code",
    "id": "UwiZ4UcOhQXX",
    "outputId": "a4b1c355-12d6-49cf-f097-24af99872ab9"
   },
   "outputs": [
    {
     "data": {
      "image/png": "[encoded data removed]",
      "text/plain": [
       "<Figure size 432x288 with 1 Axes>"
      ]
     },
     "metadata": {
      "needs_background": "light"
     },
     "output_type": "display_data"
    }
   ],
   "source": [
    "plt.hist(X_st[:,1]);"
   ]
  },
  {
   "cell_type": "markdown",
   "metadata": {
    "colab": {},
    "colab_type": "code",
    "id": "UdGy9tjVhZol"
   },
   "source": [
    "# SGD"
   ]
  },
  {
   "cell_type": "markdown",
   "metadata": {},
   "source": [
    "![img/lr_gradient_descent.gif](img/lr_gradient_descent.gif)"
   ]
  },
  {
   "cell_type": "markdown",
   "metadata": {},
   "source": [
    "Как нейронные сети обучаются с помощью градиентного спуска:  \n",
    "https://www.youtube.com/watch?v=IHZwWFHWa-w"
   ]
  },
  {
   "cell_type": "code",
   "execution_count": 46,
   "metadata": {
    "colab": {},
    "colab_type": "code",
    "id": "VDpN7UxYnrcS"
   },
   "outputs": [],
   "source": [
    "def calc_mse(y, y_pred):\n",
    "    err = np.mean((y - y_pred)**2)\n",
    "    return err"
   ]
  },
  {
   "cell_type": "code",
   "execution_count": 47,
   "metadata": {
    "colab": {},
    "colab_type": "code",
    "id": "SgEyis2zlJeb"
   },
   "outputs": [],
   "source": [
    "def eval_model(X, y, iterations, alpha=1e-4):\n",
    "    W = np.random.randn(X.shape[1])\n",
    "    n = X.shape[0]\n",
    "    for i in range(1, iterations+1):\n",
    "        y_pred = np.dot(X, W)\n",
    "        err = calc_mse(y, y_pred)\n",
    "        W -= (alpha * (1/n * 2 * np.dot((y_pred - y), X)))\n",
    "        if i % (iterations / 10) == 0:\n",
    "            print(f'# итерация: {i}, MSE: {err}, веса: {W}')\n",
    "    return W"
   ]
  },
  {
   "cell_type": "code",
   "execution_count": 48,
   "metadata": {
    "colab": {
     "base_uri": "https://localhost:8080/",
     "height": 207
    },
    "colab_type": "code",
    "id": "4nsYMAGjmFlB",
    "outputId": "8959a8af-3d27-42a6-afae-5db46c794fe1"
   },
   "outputs": [
    {
     "name": "stdout",
     "output_type": "stream",
     "text": [
      "# итерация: 100, MSE: 102.50744106000177, веса: [49.69164866  4.53544333  3.89765866  3.1677628 ]\n",
      "# итерация: 200, MSE: 41.46547296917875, веса: [56.37772187  4.80973502  3.50031437  3.32941062]\n",
      "# итерация: 300, MSE: 40.21498138214589, веса: [57.26442593  5.02878983  3.15908646  3.45624229]\n",
      "# итерация: 400, MSE: 40.069632432734025, веса: [57.38202023  5.21106118  2.87399939  3.56286006]\n",
      "# итерация: 500, MSE: 39.98106021966477, веса: [57.39761553  5.36280052  2.63585047  3.65244765]\n",
      "# итерация: 600, MSE: 39.91952217402521, веса: [57.39968377  5.48915963  2.43691769  3.72767768]\n",
      "# итерация: 700, MSE: 39.87661388961645, веса: [57.39995806  5.59441191  2.27074784  3.79081539]\n",
      "# итерация: 800, MSE: 39.846692345629, веса: [57.39999444  5.68210436  2.13194852  3.84377768]\n",
      "# итерация: 900, MSE: 39.82582664152905, веса: [57.39999926  5.75518271  2.01601398  3.88818435]\n",
      "# итерация: 1000, MSE: 39.81127585866649, веса: [57.3999999   5.81609462  1.9191796   3.9254024 ]\n"
     ]
    },
    {
     "data": {
      "text/plain": [
       "array([57.3999999 ,  5.81609462,  1.9191796 ,  3.9254024 ])"
      ]
     },
     "execution_count": 48,
     "metadata": {},
     "output_type": "execute_result"
    }
   ],
   "source": [
    "eval_model(X_st, y, iterations=1000, alpha=1e-2)"
   ]
  },
  {
   "cell_type": "code",
   "execution_count": 49,
   "metadata": {
    "colab": {},
    "colab_type": "code",
    "id": "nCcMmNdQmxDp"
   },
   "outputs": [],
   "source": [
    "def eval_sgd_model(X, y, iterations, qty_in_batch, alpha=1e-4):\n",
    "    W = np.random.randn(X.shape[1])\n",
    "    n = X.shape[0]\n",
    "    n_batch = n // qty_in_batch\n",
    "    if n % qty_in_batch != 0:\n",
    "        n_batch += 1\n",
    "    for i in range(1, iterations+1):\n",
    "        for b in range(n_batch):\n",
    "            start_ = qty_in_batch*b\n",
    "            end_ = qty_in_batch*(b+1)\n",
    "            X_tmp = X[start_ : end_, :]\n",
    "            y_tmp = y[start_ : end_]\n",
    "            y_pred_tmp = np.dot(X_tmp, W)\n",
    "            err = calc_mse(y_tmp, y_pred_tmp)\n",
    "            W -= (alpha * (1/n * 2 * np.dot((y_pred_tmp - y_tmp), X_tmp)))\n",
    "        if i % (iterations / 10) == 0:\n",
    "            print(f'# итерация: {i}, MSE: {err}, веса: {W}')\n",
    "    return W"
   ]
  },
  {
   "cell_type": "code",
   "execution_count": 50,
   "metadata": {},
   "outputs": [
    {
     "name": "stdout",
     "output_type": "stream",
     "text": [
      "# итерация: 500, MSE: 41.33971503203832, веса: [57.39621366  5.52445083  2.42911712  3.72598951]\n",
      "# итерация: 1000, MSE: 39.49983789970524, веса: [57.39810755  5.89249454  1.82984319  3.96350532]\n",
      "# итерация: 1500, MSE: 38.77035102763333, веса: [57.39791849  6.04168731  1.58668895  4.06002854]\n",
      "# итерация: 2000, MSE: 38.47767573785116, веса: [57.39784176  6.10218562  1.48803132  4.09922755]\n",
      "# итерация: 2500, MSE: 38.35946407422404, веса: [57.39781064  6.12672319  1.44800267  4.11514054]\n",
      "# итерация: 3000, MSE: 38.3115886168036, веса: [57.39779802  6.13667669  1.43176193  4.12159899]\n",
      "# итерация: 3500, MSE: 38.29217807688498, веса: [57.39779289  6.14071456  1.42517265  4.12421986]\n",
      "# итерация: 4000, MSE: 38.28430491245621, веса: [57.39779082  6.1423527   1.42249922  4.12528333]\n",
      "# итерация: 4500, MSE: 38.281110918666926, веса: [57.39778997  6.1430173   1.42141455  4.12571483]\n",
      "# итерация: 5000, MSE: 38.27981509256783, веса: [57.39778963  6.14328694  1.42097448  4.12588991]\n"
     ]
    },
    {
     "data": {
      "text/plain": [
       "array([57.39778963,  6.14328694,  1.42097448,  4.12588991])"
      ]
     },
     "execution_count": 50,
     "metadata": {},
     "output_type": "execute_result"
    }
   ],
   "source": [
    "eval_sgd_model(X_st, y, iterations=5000, qty_in_batch=5, alpha=1e-2)"
   ]
  },
  {
   "cell_type": "markdown",
   "metadata": {},
   "source": [
    "### Регуляризация  \n",
    "\n",
    "По сути, регуляризация - это ограничение модели.  \n",
    "Для нас это, прежде всего, способ уменьшить сложность модели, чтобы предотвратить переобучение.\n",
    "Проблема: признаки могут иметь линейную (или почти линейную) зависимость.  \n",
    "Если у нас есть такие признаки, модель будет не устойчива к изменению в данных (большой variance).  \n",
    "Чтобы побороть этот эффект, модель при обучении дополнительно ограничивают, используя **регуляризацию**.\n",
    "\n",
    "Подробнее здесь:  \n",
    "https://habr.com/ru/company/ods/blog/323890/  \n",
    "и здесь:  \n",
    "https://habr.com/ru/company/ods/blog/322076/  "
   ]
  },
  {
   "cell_type": "markdown",
   "metadata": {
    "colab": {},
    "colab_type": "code",
    "id": "DYTxT_6OrZpe"
   },
   "source": [
    "L1 регуляризация"
   ]
  },
  {
   "cell_type": "markdown",
   "metadata": {
    "colab": {},
    "colab_type": "code",
    "id": "Ojkn7xKrsyiw"
   },
   "source": [
    "$$\\Large \\mathcal{L}_{reg} \\left(X, \\vec{y}, \\vec{w}\\right) = \\mathcal{L}\\left(X, \\vec{y}, \\vec{w}\\right)  + \\lambda \\sum_{j=1}^m \\left| w_j \\right|$$"
   ]
  },
  {
   "cell_type": "markdown",
   "metadata": {
    "colab": {},
    "colab_type": "code",
    "id": "j38vId7Hvtg0"
   },
   "source": [
    "L2 регуляризация"
   ]
  },
  {
   "cell_type": "markdown",
   "metadata": {
    "colab": {},
    "colab_type": "code",
    "id": "KO5BtZ7svv4k"
   },
   "source": [
    "$$\\Large \\mathcal{L}_{reg} \\left(X, \\vec{y}, \\vec{w}\\right) = \\mathcal{L}\\left(X, \\vec{y}, \\vec{w}\\right) + \\lambda \\frac{1}{2} \\sum_{j=1}^m w_j^2$$"
   ]
  },
  {
   "cell_type": "code",
   "execution_count": 51,
   "metadata": {
    "colab": {},
    "colab_type": "code",
    "id": "7AVoe1Mswjni"
   },
   "outputs": [],
   "source": [
    "def eval_model_reg2(X, y, iterations, alpha=1e-4, lambda_=1e-8):\n",
    "    np.random.seed(42)\n",
    "    W = np.random.randn(X.shape[1])\n",
    "    n = X.shape[0]\n",
    "    for i in range(1, iterations+1):\n",
    "        y_pred = np.dot(X, W)\n",
    "        err = calc_mse(y, y_pred)\n",
    "        W -= alpha * (1/n * 2 * np.dot((y_pred - y), X) + lambda_ * W) \n",
    "        if i % (iterations / 10) == 0:\n",
    "            print(f'# итерация: {i}, MSE: {err}, веса: {W}')\n",
    "    return W"
   ]
  },
  {
   "cell_type": "code",
   "execution_count": 52,
   "metadata": {
    "colab": {
     "base_uri": "https://localhost:8080/",
     "height": 207
    },
    "colab_type": "code",
    "id": "vLJL6j8Lw6OA",
    "outputId": "dac9ef42-5966-4404-9346-aeb18cca83c6"
   },
   "outputs": [
    {
     "name": "stdout",
     "output_type": "stream",
     "text": [
      "# итерация: 500, MSE: 39.98166412253417, веса: [57.39479705  5.10767868  2.46037345  4.08674902]\n",
      "# итерация: 1000, MSE: 39.80723120406396, веса: [57.39713005  5.765859    1.85689028  4.03893236]\n",
      "# итерация: 1500, MSE: 39.782405042800356, веса: [57.39713014  5.99060723  1.60529698  4.06885866]\n",
      "# итерация: 2000, MSE: 39.778523565788895, веса: [57.39713014  6.07152025  1.50155606  4.09300748]\n",
      "# итерация: 2500, MSE: 39.77788748617128, веса: [57.39713014  6.10185559  1.45905205  4.10572941]\n",
      "# итерация: 3000, MSE: 39.777779304702584, веса: [57.39713014  6.11355928  1.44170275  4.11160375]\n",
      "# итерация: 3500, MSE: 39.77775983405893, веса: [57.39713014  6.11816175  1.43463681  4.11416107]\n",
      "# итерация: 4000, MSE: 39.777755943216036, веса: [57.39713014  6.11999396  1.43176283  4.1152412 ]\n",
      "# итерация: 4500, MSE: 39.77775502451415, веса: [57.39713014  6.12072893  1.43059479  4.11568989]\n",
      "# итерация: 5000, MSE: 39.77775476050766, веса: [57.39713014  6.12102515  1.4301203   4.11587451]\n"
     ]
    },
    {
     "data": {
      "text/plain": [
       "array([57.39713014,  6.12102515,  1.4301203 ,  4.11587451])"
      ]
     },
     "execution_count": 52,
     "metadata": {},
     "output_type": "execute_result"
    }
   ],
   "source": [
    "eval_model_reg2(X_st, y, iterations=5000, alpha=1e-2, lambda_=1e-4)"
   ]
  },
  {
   "cell_type": "markdown",
   "metadata": {},
   "source": [
    "### Домашнее задание:  \n",
    "1. Постройте график зависимости весов всех признаков от lambda в L2-регуляризации (на данных из урока).\n",
    "2. Можно ли к одному и тому же признаку применить сразу и нормализацию, и стандартизацию?  \n",
    "3. Напишите функцию наподобие eval_model_reg2, но для применения L1-регуляризации *."
   ]
  },
  {
   "cell_type": "markdown",
   "metadata": {},
   "source": [
    "### Задача 1"
   ]
  },
  {
   "cell_type": "markdown",
   "metadata": {},
   "source": [
    "Создадим функцию, которая будет собирать веса и лямбду по окончанию итерации"
   ]
  },
  {
   "cell_type": "code",
   "execution_count": 164,
   "metadata": {},
   "outputs": [],
   "source": [
    "def eval_model_reg2_w_collect(X, y, iterations, alpha=1e-4, lambda_=1e-8):\n",
    "    lambda_array = list()\n",
    "    W_array = list()\n",
    "    for j in (1*0.1**exp for exp in range(-1, 9)):\n",
    "        np.random.seed(42)\n",
    "        W = np.random.randn(X.shape[1])\n",
    "        n = X.shape[0]\n",
    "        for i in range(1, iterations+1):\n",
    "            y_pred = np.dot(X, W)\n",
    "            err = calc_mse(y, y_pred)\n",
    "            W -= alpha * (1/n * 2 * np.dot((y_pred - y), X) + j * W)\n",
    "            if i % (iterations / 10) == 0:\n",
    "                print(f'# итерация: {i}, MSE: {err}, веса: {W}')\n",
    "        lambda_array.append(j)\n",
    "        W_array.append(W)\n",
    "    return np.array(lambda_array), np.array(W_array)\n"
   ]
  },
  {
   "cell_type": "markdown",
   "metadata": {},
   "source": [
    "Соберем их при помощи созданной функции"
   ]
  },
  {
   "cell_type": "code",
   "execution_count": 165,
   "metadata": {},
   "outputs": [
    {
     "name": "stdout",
     "output_type": "stream",
     "text": [
      "# итерация: 500, MSE: 2380.6100686583386, веса: [9.56666667 1.42530532 1.35226504 1.37037873]\n",
      "# итерация: 1000, MSE: 2380.6100686583386, веса: [9.56666667 1.42530532 1.35226504 1.37037873]\n",
      "# итерация: 1500, MSE: 2380.6100686583386, веса: [9.56666667 1.42530532 1.35226504 1.37037873]\n",
      "# итерация: 2000, MSE: 2380.6100686583386, веса: [9.56666667 1.42530532 1.35226504 1.37037873]\n",
      "# итерация: 2500, MSE: 2380.6100686583386, веса: [9.56666667 1.42530532 1.35226504 1.37037873]\n",
      "# итерация: 3000, MSE: 2380.6100686583386, веса: [9.56666667 1.42530532 1.35226504 1.37037873]\n",
      "# итерация: 3500, MSE: 2380.6100686583386, веса: [9.56666667 1.42530532 1.35226504 1.37037873]\n",
      "# итерация: 4000, MSE: 2380.6100686583386, веса: [9.56666667 1.42530532 1.35226504 1.37037873]\n",
      "# итерация: 4500, MSE: 2380.6100686583386, веса: [9.56666667 1.42530532 1.35226504 1.37037873]\n",
      "# итерация: 5000, MSE: 2380.6100686583386, веса: [9.56666667 1.42530532 1.35226504 1.37037873]\n",
      "# итерация: 500, MSE: 409.5421247913339, веса: [38.26665748  3.66336643  2.94456998  3.25334751]\n",
      "# итерация: 1000, MSE: 409.5404899542841, веса: [38.26666667  3.66557047  2.94352908  3.25219166]\n",
      "# итерация: 1500, MSE: 409.54048712065065, веса: [38.26666667  3.66557477  2.94352609  3.25219037]\n",
      "# итерация: 2000, MSE: 409.54048711399173, веса: [38.26666667  3.66557478  2.94352608  3.25219037]\n",
      "# итерация: 2500, MSE: 409.5404871139755, веса: [38.26666667  3.66557478  2.94352608  3.25219037]\n",
      "# итерация: 3000, MSE: 409.5404871139753, веса: [38.26666667  3.66557478  2.94352608  3.25219037]\n",
      "# итерация: 3500, MSE: 409.5404871139753, веса: [38.26666667  3.66557478  2.94352608  3.25219037]\n",
      "# итерация: 4000, MSE: 409.5404871139753, веса: [38.26666667  3.66557478  2.94352608  3.25219037]\n",
      "# итерация: 4500, MSE: 409.5404871139753, веса: [38.26666667  3.66557478  2.94352608  3.25219037]\n",
      "# итерация: 5000, MSE: 409.5404871139753, веса: [38.26666667  3.66557478  2.94352608  3.25219037]\n",
      "# итерация: 500, MSE: 47.59254063912754, веса: [54.66533282  4.86300292  2.65814614  3.92390998]\n",
      "# итерация: 1000, MSE: 47.4484412013557, веса: [54.66666663  5.2195531   2.35823112  3.87056803]\n",
      "# итерация: 1500, MSE: 47.42358952213662, веса: [54.66666667  5.29183992  2.28202799  3.87539954]\n",
      "# итерация: 2000, MSE: 47.41806372054353, веса: [54.66666667  5.30735063  2.26292306  3.87923439]\n",
      "# итерация: 2500, MSE: 47.41676045769479, веса: [54.66666667  5.31083176  2.25816992  3.88056789]\n",
      "# итерация: 3000, MSE: 47.416446516103036, веса: [54.66666667  5.3116389   2.25699268  3.88095346]\n",
      "# итерация: 3500, MSE: 47.41637017163542, веса: [54.66666667  5.31183021  2.25670188  3.8810568 ]\n",
      "# итерация: 4000, MSE: 47.41635151437421, веса: [54.66666667  5.31187621  2.25663016  3.88108348]\n",
      "# итерация: 4500, MSE: 47.41634694215803, веса: [54.66666667  5.31188737  2.25661249  3.88109022]\n",
      "# итерация: 5000, MSE: 47.416345819847905, веса: [54.66666667  5.3118901   2.25660813  3.88109191]\n",
      "# итерация: 500, MSE: 40.074176083818756, веса: [57.11222071  5.08172766  2.48357519  4.06832867]\n",
      "# итерация: 1000, MSE: 39.899660683649145, веса: [57.11442777  5.70075336  1.92095868  4.01831082]\n",
      "# итерация: 1500, MSE: 39.8712982872398, веса: [57.11442786  5.90146892  1.6976314   4.0436524 ]\n",
      "# итерация: 2000, MSE: 39.86508430117283, веса: [57.11442786  5.97011421  1.60997397  4.06377946]\n",
      "# итерация: 2500, MSE: 39.863345861392595, веса: [57.11442786  5.994574    1.57579107  4.07394724]\n",
      "# итерация: 3000, MSE: 39.86277261135839, веса: [57.11442786  6.00354651  1.56251196  4.07842886]\n",
      "# итерация: 3500, MSE: 39.86256626396755, веса: [57.11442786  6.00690234  1.55736505  4.08028829]\n",
      "# итерация: 4000, MSE: 39.86248893332199, веса: [57.11442786  6.00817319  1.55537282  4.08103626]\n",
      "# итерация: 4500, MSE: 39.86245944706355, веса: [57.11442786  6.00865821  1.5546023   4.08133207]\n",
      "# итерация: 5000, MSE: 39.862448121512834, веса: [57.11442786  6.0088442   1.55430443  4.08144793]\n",
      "# итерация: 500, MSE: 39.983448448078924, веса: [57.36899299  5.1053032   2.46251946  4.08505036]\n",
      "# итерация: 1000, MSE: 39.80895827777616, веса: [57.37131425  5.75982044  1.86287557  4.03701148]\n",
      "# итерация: 1500, MSE: 39.78374222222048, веса: [57.37131434  5.98226846  1.61399522  4.06649131]\n",
      "# итерация: 2000, MSE: 39.77959810965572, веса: [57.37131434  6.06198048  1.51183169  4.09024351]\n",
      "# итерация: 2500, MSE: 39.77883304232004, веса: [57.37131434  6.09172769  1.47016155  4.10270881]\n",
      "# итерация: 3000, MSE: 39.77866808888384, веса: [57.37131434  6.10315196  1.45322897  4.10844036]\n",
      "# итерация: 3500, MSE: 39.77862478316077, веса: [57.37131434  6.10762411  1.44636373  4.11092464]\n",
      "# итерация: 4000, MSE: 39.77861109848801, веса: [57.37131434  6.10939637  1.44358392  4.11196928]\n",
      "# итерация: 4500, MSE: 39.77860619483076, веса: [57.37131434  6.11010409  1.44245925  4.11240129]\n",
      "# итерация: 5000, MSE: 39.778604316493336, веса: [57.37131434  6.11038803  1.44200443  4.11257825]\n",
      "# итерация: 500, MSE: 39.98166412253417, веса: [57.39479705  5.10767868  2.46037345  4.08674902]\n",
      "# итерация: 1000, MSE: 39.80723120406396, веса: [57.39713005  5.765859    1.85689028  4.03893236]\n",
      "# итерация: 1500, MSE: 39.782405042800356, веса: [57.39713014  5.99060723  1.60529698  4.06885866]\n",
      "# итерация: 2000, MSE: 39.778523565788895, веса: [57.39713014  6.07152025  1.50155606  4.09300748]\n",
      "# итерация: 2500, MSE: 39.77788748617128, веса: [57.39713014  6.10185559  1.45905205  4.10572941]\n",
      "# итерация: 3000, MSE: 39.777779304702584, веса: [57.39713014  6.11355928  1.44170275  4.11160375]\n",
      "# итерация: 3500, MSE: 39.77775983405893, веса: [57.39713014  6.11816175  1.43463681  4.11416107]\n",
      "# итерация: 4000, MSE: 39.777755943216036, веса: [57.39713014  6.11999396  1.43176283  4.1152412 ]\n",
      "# итерация: 4500, MSE: 39.77775502451415, веса: [57.39713014  6.12072893  1.43059479  4.11568989]\n",
      "# итерация: 5000, MSE: 39.77775476050766, веса: [57.39713014  6.12102515  1.4301203   4.11587451]\n",
      "# итерация: 500, MSE: 39.981559303006854, веса: [57.39737873  5.10791641  2.46015844  4.08691915]\n",
      "# итерация: 1000, MSE: 39.807132690843005, веса: [57.39971291  5.7664642   1.85628994  4.03912497]\n",
      "# итерация: 1500, MSE: 39.7823463376821, веса: [57.399713    5.99144378  1.60442371  4.06909626]\n",
      "# итерация: 2000, MSE: 39.77849174531257, веса: [57.399713    6.07247788  1.5005237   4.0932851 ]\n",
      "# итерация: 2500, MSE: 39.77786892689035, веса: [57.399713    6.10287267  1.45793539  4.10603298]\n",
      "# итерация: 3000, MSE: 39.777766609793936, веса: [57.399713    6.11460469  1.44054386  4.1119218 ]\n",
      "# итерация: 3500, MSE: 39.77774961326131, веса: [57.399713    6.1192204   1.43345753  4.11448655]\n",
      "# итерация: 4000, MSE: 39.77774674405675, веса: [57.399713    6.12105871  1.43057395  4.11557029]\n",
      "# итерация: 4500, MSE: 39.77774624311108, веса: [57.399713    6.12179647  1.42940149  4.11602068]\n",
      "# итерация: 5000, MSE: 39.77774614918458, веса: [57.399713    6.12209394  1.42892499  4.11620609]\n",
      "# итерация: 500, MSE: 39.98154955791853, веса: [57.39763691  5.10794018  2.46013693  4.08693617]\n",
      "# итерация: 1000, MSE: 39.80712358223161, веса: [57.3999712   5.76652473  1.85622989  4.03914423]\n",
      "# итерация: 1500, MSE: 39.78234121813759, веса: [57.3999713   5.99152746  1.60433635  4.06912003]\n",
      "# итерация: 2000, MSE: 39.77848932051273, веса: [57.3999713   6.07257368  1.50042042  4.09331287]\n",
      "# итерация: 2500, MSE: 39.777867831884585, веса: [57.3999713   6.10297443  1.45782366  4.10606336]\n",
      "# итерация: 3000, MSE: 39.77776610312806, веса: [57.3999713   6.11470927  1.4404279   4.11195362]\n",
      "# итерация: 3500, MSE: 39.77774935492993, веса: [57.3999713   6.11932631  1.43333953  4.11451911]\n",
      "# итерация: 4000, MSE: 39.777746588320966, веса: [57.3999713   6.12116523  1.430455    4.11560322]\n",
      "# итерация: 4500, MSE: 39.77774612934818, веса: [57.3999713   6.12190327  1.42928209  4.11605378]\n",
      "# итерация: 5000, MSE: 39.77774605251849, веса: [57.3999713   6.12220087  1.42880539  4.11623926]\n",
      "# итерация: 500, MSE: 39.98154859077907, веса: [57.39766273  5.10794256  2.46013478  4.08693787]\n",
      "# итерация: 1000, MSE: 39.80712267879835, веса: [57.39999703  5.76653079  1.85622388  4.03914616]\n",
      "# итерация: 1500, MSE: 39.78234071369366, веса: [57.39999713  5.99153583  1.60432761  4.06912241]\n",
      "# итерация: 2000, MSE: 39.77848908560613, веса: [57.39999713  6.07258326  1.50041009  4.09331565]\n",
      "# итерация: 2500, MSE: 39.77786772999421, веса: [57.39999713  6.1029846   1.45781249  4.10606639]\n",
      "# итерация: 3000, MSE: 39.77776606009075, веса: [57.39999713  6.11471973  1.44041631  4.1119568 ]\n",
      "# итерация: 3500, MSE: 39.77774933673531, веса: [57.39999713  6.1193369   1.43332773  4.11452237]\n",
      "# итерация: 4000, MSE: 39.777746580390186, веса: [57.39999713  6.12117588  1.4304431   4.11560651]\n",
      "# итерация: 4500, MSE: 39.77774612561669, веса: [57.39999713  6.12191395  1.42927015  4.11605709]\n",
      "# итерация: 5000, MSE: 39.777746050497555, веса: [57.39999713  6.12221157  1.42879343  4.11624258]\n",
      "# итерация: 500, MSE: 39.98154849413883, веса: [57.39766531  5.10794279  2.46013457  4.08693804]\n",
      "# итерация: 1000, MSE: 39.80712258852932, веса: [57.39999962  5.76653139  1.85622328  4.03914635]\n",
      "# итерация: 1500, MSE: 39.78234066332437, веса: [57.39999971  5.99153666  1.60432674  4.06912265]\n",
      "# итерация: 2000, MSE: 39.778489062191184, веса: [57.39999971  6.07258422  1.50040906  4.09331593]\n"
     ]
    },
    {
     "name": "stdout",
     "output_type": "stream",
     "text": [
      "# итерация: 2500, MSE: 39.77786771988127, веса: [57.39999971  6.10298562  1.45781137  4.1060667 ]\n",
      "# итерация: 3000, MSE: 39.77776605586327, веса: [57.39999971  6.11472078  1.44041515  4.11195712]\n",
      "# итерация: 3500, MSE: 39.7777493349922, веса: [57.39999971  6.11933796  1.43332655  4.11452269]\n",
      "# итерация: 4000, MSE: 39.77774657967356, веса: [57.39999971  6.12117695  1.43044191  4.11560684]\n",
      "# итерация: 4500, MSE: 39.77774612531998, веса: [57.39999971  6.12191502  1.42926896  4.11605742]\n",
      "# итерация: 5000, MSE: 39.77774605037193, веса: [57.39999971  6.12221264  1.42879223  4.11624291]\n"
     ]
    }
   ],
   "source": [
    "lambda_array, W_array = eval_model_reg2_w_collect(X_st, y, iterations=5000, alpha=1e-2, lambda_=1e-1)"
   ]
  },
  {
   "cell_type": "markdown",
   "metadata": {},
   "source": [
    "На основании собранных данных построим график"
   ]
  },
  {
   "cell_type": "code",
   "execution_count": 166,
   "metadata": {},
   "outputs": [
    {
     "data": {
      "image/png": "[encoded data removed]",
      "text/plain": [
       "<Figure size 432x288 with 1 Axes>"
      ]
     },
     "metadata": {
      "needs_background": "light"
     },
     "output_type": "display_data"
    }
   ],
   "source": [
    "for k in range(0, 4):\n",
    "    plt.plot(lambda_array, W_array.T[k])\n",
    "plt.show()"
   ]
  },
  {
   "cell_type": "markdown",
   "metadata": {},
   "source": [
    "<b>Вывод</b>: чем меньше показатель степени у коэффициента lambda, тем ниже разброс между весами"
   ]
  },
  {
   "cell_type": "markdown",
   "metadata": {},
   "source": [
    "### Задача 2"
   ]
  },
  {
   "cell_type": "markdown",
   "metadata": {},
   "source": [
    "Применить к одному и тому же признаку сразу и нормализацию, и стандартизацию невозможно, поскольку нормализация использует относительную шкалу (% от среднего), а стандартизация абсолютную (сдвиг от среднего)"
   ]
  },
  {
   "cell_type": "markdown",
   "metadata": {},
   "source": [
    "### Задача 3"
   ]
  },
  {
   "cell_type": "markdown",
   "metadata": {},
   "source": [
    "Формула L1 регуляризации имеет следующий вид:"
   ]
  },
  {
   "cell_type": "markdown",
   "metadata": {
    "colab": {},
    "colab_type": "code",
    "id": "Ojkn7xKrsyiw"
   },
   "source": [
    "$$\\Large \\mathcal{L}_{reg} \\left(X, \\vec{y}, \\vec{w}\\right) = \\mathcal{L}\\left(X, \\vec{y}, \\vec{w}\\right)  + \\lambda \\sum_{j=1}^m \\left| w_j \\right|$$"
   ]
  },
  {
   "cell_type": "markdown",
   "metadata": {},
   "source": [
    "В литературе производную из модуля вектор-столбца определяют как столбец, состоящий из чисел -1, 0, 1, знак определяется согласно числу элемента столбца "
   ]
  },
  {
   "cell_type": "markdown",
   "metadata": {},
   "source": [
    "Для создания такой матрицы используется метод sign библиотеки numpy "
   ]
  },
  {
   "cell_type": "code",
   "execution_count": 179,
   "metadata": {},
   "outputs": [],
   "source": [
    "def eval_model_reg1(X, y, iterations, alpha=1e-4, lambda_=1e-8):\n",
    "    np.random.seed(42)\n",
    "    W = np.random.randn(X.shape[1])\n",
    "    n = X.shape[0]\n",
    "    for i in range(1, iterations+1):\n",
    "        y_pred = np.dot(X, W)\n",
    "        err = calc_mse(y, y_pred)\n",
    "        W -= alpha * (1/n * 2 * np.dot((y_pred - y), X) + lambda_ * np.sign(W))\n",
    "        if i % (iterations / 10) == 0:\n",
    "            print(f'# итерация: {i}, MSE: {err}, веса: {W}')\n",
    "    return W"
   ]
  },
  {
   "cell_type": "code",
   "execution_count": 180,
   "metadata": {},
   "outputs": [
    {
     "name": "stdout",
     "output_type": "stream",
     "text": [
      "# итерация: 500, MSE: 39.98753873813259, веса: [57.34766765  5.0893263   2.44461657  4.06686007]\n",
      "# итерация: 1000, MSE: 39.81275594850908, веса: [57.3499999   5.74710458  1.84207396  4.01849149]\n",
      "# итерация: 1500, MSE: 39.78776053753044, веса: [57.35        5.9717757   1.5907325   4.04823937]\n",
      "# итерация: 2000, MSE: 39.783792390062835, веса: [57.35        6.05268632  1.48704006  4.07234131]\n",
      "# итерация: 2500, MSE: 39.783118218788026, веса: [57.35        6.0830318   1.44453381  4.08505533]\n",
      "# итерация: 3000, MSE: 39.782994056806885, веса: [57.35        6.09474418  1.42717471  4.09093091]\n",
      "# итерация: 3500, MSE: 39.78296799391677, веса: [57.35        6.0993521   1.42010119  4.09349048]\n",
      "# итерация: 4000, MSE: 39.78296140268311, веса: [57.35        6.10118731  1.41722267  4.09457219]\n",
      "# итерация: 4500, MSE: 39.782959381579204, веса: [57.35        6.10192385  1.4160522   4.09502178]\n",
      "# итерация: 5000, MSE: 39.78295866837946, веса: [57.35        6.10222084  1.41557648  4.09520688]\n"
     ]
    },
    {
     "data": {
      "text/plain": [
       "array([57.35      ,  6.10222084,  1.41557648,  4.09520688])"
      ]
     },
     "execution_count": 180,
     "metadata": {},
     "output_type": "execute_result"
    }
   ],
   "source": [
    "eval_model_reg1(X_st, y, iterations=5000, alpha=1e-2, lambda_=1e-1)"
   ]
  }
 ],
 "metadata": {
  "colab": {
   "collapsed_sections": [],
   "name": "Lesson2.ipynb",
   "provenance": []
  },
  "kernelspec": {
   "display_name": "Python 3",
   "language": "python",
   "name": "python3"
  },
  "language_info": {
   "codemirror_mode": {
    "name": "ipython",
    "version": 3
   },
   "file_extension": ".py",
   "mimetype": "text/x-python",
   "name": "python",
   "nbconvert_exporter": "python",
   "pygments_lexer": "ipython3",
   "version": "3.7.4"
  }
 },
 "nbformat": 4,
 "nbformat_minor": 1
}
